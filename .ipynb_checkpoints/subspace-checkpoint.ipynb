{
 "cells": [
  {
   "cell_type": "code",
   "execution_count": 7,
   "id": "b9c5cddf",
   "metadata": {},
   "outputs": [
    {
     "name": "stdout",
     "output_type": "stream",
     "text": [
      "           x1        x2        x3        x4        x5        x6        x7  \\\n",
      "0    1.131486  1.251947  1.343342 -0.153335  2.552750  1.832252  1.337409   \n",
      "1   -1.253938 -1.235860 -0.503176 -0.178275 -0.732714 -0.066455  1.337409   \n",
      "2    0.336345 -0.738298 -0.503176 -0.103453 -0.699413 -0.699357 -0.317800   \n",
      "3    1.131486 -0.738298  1.343342 -0.128394 -0.473391 -0.699357  1.337409   \n",
      "4   -1.253938  1.749509  1.343342 -0.053572  0.043483 -0.699357 -1.973010   \n",
      "..        ...       ...       ...       ...       ...       ...       ...   \n",
      "695 -1.253938  0.256825 -0.503176 -0.178275 -0.673197  1.832252 -0.317800   \n",
      "696 -0.458797  1.251947 -0.503176 -0.178275  3.913486 -0.699357  1.337409   \n",
      "697 -0.458797 -0.987079 -0.503176 -0.128394 -0.819155 -0.699357 -0.317800   \n",
      "698  0.336345  0.754386  0.420083  0.046190 -0.482956 -0.699357  1.337409   \n",
      "699 -1.253938  0.256825 -1.426435 -0.103453 -0.611200 -0.699357  0.509805   \n",
      "\n",
      "           x8        x9       x10  ...       x12       x13       x14  \\\n",
      "0   -0.869748  0.449102 -0.303534  ...  1.563498  0.567361  0.460600   \n",
      "1    0.024135  0.449102 -0.303534  ... -0.340885  0.655270  0.460600   \n",
      "2    0.024135  1.861371 -0.303534  ... -1.293076 -1.102900  0.460600   \n",
      "3    0.918018  0.449102 -0.303534  ... -1.293076  0.655270  0.460600   \n",
      "4    0.918018  0.449102  1.789803  ...  0.611307  2.589256  0.460600   \n",
      "..        ...       ...       ...  ...       ...       ...       ...   \n",
      "695  0.918018 -0.963168 -0.303534  ... -1.293076 -0.927083  0.460600   \n",
      "696  0.918018  0.449102 -0.303534  ...  1.563498  1.885988  0.460600   \n",
      "697 -1.763631 -0.963168 -0.303534  ...  0.611307 -0.575449  0.460600   \n",
      "698  0.918018  0.449102 -0.303534  ... -1.293076  2.677164  0.460600   \n",
      "699  0.918018  0.449102  3.883140  ...  0.611307 -1.014991 -2.373863   \n",
      "\n",
      "          x15       x16       x17       x18       x19       x20  class  \n",
      "0    2.015948  1.026565  0.146876 -0.428075 -0.822906 -0.195916      0  \n",
      "1    0.133644 -0.704573  0.146876 -0.428075  1.213990 -0.195916      0  \n",
      "2   -1.748660 -0.704573  0.146876 -0.428075 -0.822906 -0.195916      0  \n",
      "3    0.133644  2.757704  0.146876 -0.428075  1.213990 -0.195916      0  \n",
      "4    0.133644  1.026565 -2.913035 -0.428075 -0.822906 -0.195916      0  \n",
      "..        ...       ...       ...       ...       ...       ...    ...  \n",
      "695 -1.748660 -0.704573  0.146876 -0.428075 -0.822906 -0.195916      1  \n",
      "696  2.015948 -0.704573  1.676831 -0.428075  1.213990 -0.195916      1  \n",
      "697  0.133644 -0.704573  0.146876 -0.428075 -0.822906  5.099118      1  \n",
      "698  0.133644 -0.704573  1.676831 -0.428075  1.213990 -0.195916      1  \n",
      "699 -1.748660 -0.704573 -1.383079 -0.428075 -0.822906 -0.195916      1  \n",
      "\n",
      "[700 rows x 21 columns]\n"
     ]
    }
   ],
   "source": [
    "import pandas as pd\n",
    "import numpy as np\n",
    "\n",
    "#labeling\n",
    "file_path = 'german1.ldt'\n",
    "column_names = [f'x{i}' for i in range(1, 21)] + ['class']\n",
    "\n",
    "# Read into a DataFrame \n",
    "cord = pd.read_csv(file_path,sep = '\\t', skiprows=1,names=column_names)\n",
    "\n",
    "#class seperation Note: Dataframe operations\n",
    "co_class1 = cord[cord['class'] == 0].iloc[:, :-1].values\n",
    "co_class2 = cord[cord['class'] == 1].iloc[:, :-1].values\n",
    "\n",
    "\n",
    "\n",
    "print(cord)"
   ]
  },
  {
   "cell_type": "code",
   "execution_count": 6,
   "id": "dcc8f392",
   "metadata": {},
   "outputs": [],
   "source": [
    "#matrice function\n",
    "def A(a):    \n",
    "    result = np.zeros((a.shape[1], a.shape[1]))\n",
    "    for i in range(a.shape[0]):\n",
    "        row = a[i:i+1, :]\n",
    "        result += np.outer(row, row)/a.shape[0]\n",
    "    return result\n",
    "def maximum(a,b):\n",
    "    sorted_indices = np.argsort(a)[::-1]  # Sort in descending order\n",
    "    top_3_indices = sorted_indices[:3]\n",
    "    # Extract the top  eigenvalues and eigenvectors\n",
    "    top_3_values = a[top_3_indices]\n",
    "    top_3_vectors = b[top_3_indices]\n",
    "    return top_3_values,top_3_vectors\n",
    "\n",
    "    return top_3_elements\n",
    "# Eigendecomposition calculation\n",
    "eig_v1,eig_vec1 = np.linalg.eig(A(co_class1))\n",
    "eig_v2,eig_vec2 = np.linalg.eig(A(co_class2))\n",
    "\n",
    "#maximum 3 eigenvalues and their corrosponding eigenvectors\n",
    "maximum_3_class1_v,maximum_3_class1_vec = maximum(eig_v1,eig_vec1)\n",
    "maximum_3_class2_v,maximum_3_class2_vec = maximum(eig_v2,eig_vec2)"
   ]
  },
  {
   "cell_type": "code",
   "execution_count": 4,
   "id": "2beb9be4",
   "metadata": {},
   "outputs": [
    {
     "name": "stdout",
     "output_type": "stream",
     "text": [
      "[[ 1.07437711e-01 -2.07587463e-01 -3.52223398e-02 -2.90102083e-01\n",
      "   2.44403060e-01 -2.45379716e-01  1.56843162e-01  5.24475573e-03\n",
      "   3.82440531e-02  8.74747968e-02  7.70232348e-02 -2.58298986e-01\n",
      "  -1.65028246e-01 -3.78276559e-01  3.38565448e-01 -1.49588583e-01\n",
      "  -5.63438739e-02  3.99777125e-01  4.00364429e-01 -5.48559165e-02]\n",
      " [ 2.96852018e-01  2.26127730e-01  5.89070728e-01  1.69106770e-01\n",
      "   6.59806837e-02 -1.78627062e-01  1.00407775e-01  1.06934723e-01\n",
      "  -1.55962609e-02  3.89832689e-02  5.93629836e-02 -1.00010003e-01\n",
      "  -4.00111477e-01  1.34678507e-02  4.04602311e-02 -1.31082934e-01\n",
      "   1.06640119e-01  8.35796163e-02 -3.97876230e-01 -2.37325653e-01]\n",
      " [ 6.75640748e-02  8.39374694e-02 -3.48913861e-02  9.07603528e-02\n",
      "  -5.84023569e-02 -5.97349818e-02  2.76815743e-04 -5.21543124e-01\n",
      "   3.90176782e-02 -7.31370753e-01 -1.32654541e-01 -1.42675668e-02\n",
      "  -8.37288046e-02 -1.97084050e-01  1.25974255e-01 -9.96683005e-02\n",
      "  -8.71573981e-02 -1.78520978e-01  4.29373871e-02 -1.80987015e-01]]\n"
     ]
    }
   ],
   "source": [
    "print(maximum_3_class1_vec) #Checking"
   ]
  },
  {
   "cell_type": "code",
   "execution_count": 5,
   "id": "7cb6d503",
   "metadata": {},
   "outputs": [],
   "source": [
    "#Output\n",
    "Result1 = pd.DataFrame(maximum_3_class1_vec[0])\n",
    "Result2 = pd.DataFrame(maximum_3_class1_vec[1])\n",
    "Result3 = pd.DataFrame(maximum_3_class1_vec[2])\n",
    "\n",
    "iResult1 = pd.DataFrame(maximum_3_class2_vec[0])\n",
    "iResult2 = pd.DataFrame(maximum_3_class2_vec[1])\n",
    "iResult3 = pd.DataFrame(maximum_3_class2_vec[2])\n",
    "\n",
    "Result1.to_csv('class1_varphi1.csv', index=False,header=False)\n",
    "Result2.to_csv('class1_varphi2.csv', index=False,header=False)\n",
    "Result3.to_csv('class1_varphi3.csv', index=False,header=False)\n",
    "iResult1.to_csv('class2_varphi1.csv', index=False,header=False)\n",
    "iResult2.to_csv('class2_varphi2.csv', index=False,header=False)\n",
    "iResult3.to_csv('class2_varphi3.csv', index=False,header=False)\n"
   ]
  },
  {
   "cell_type": "code",
   "execution_count": null,
   "id": "cf07cd27",
   "metadata": {},
   "outputs": [],
   "source": []
  },
  {
   "cell_type": "code",
   "execution_count": null,
   "id": "ffe4cf3b",
   "metadata": {},
   "outputs": [],
   "source": []
  },
  {
   "cell_type": "code",
   "execution_count": null,
   "id": "5c98e658",
   "metadata": {},
   "outputs": [],
   "source": []
  }
 ],
 "metadata": {
  "kernelspec": {
   "display_name": "Python 3 (ipykernel)",
   "language": "python",
   "name": "python3"
  },
  "language_info": {
   "codemirror_mode": {
    "name": "ipython",
    "version": 3
   },
   "file_extension": ".py",
   "mimetype": "text/x-python",
   "name": "python",
   "nbconvert_exporter": "python",
   "pygments_lexer": "ipython3",
   "version": "3.9.7"
  }
 },
 "nbformat": 4,
 "nbformat_minor": 5
}
